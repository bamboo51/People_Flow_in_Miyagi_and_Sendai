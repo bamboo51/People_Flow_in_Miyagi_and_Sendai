{
 "cells": [
  {
   "attachments": {},
   "cell_type": "markdown",
   "metadata": {},
   "source": [
    "# グラフの生成のソースコード"
   ]
  },
  {
   "attachments": {},
   "cell_type": "markdown",
   "metadata": {},
   "source": [
    "1. ヒートマップ"
   ]
  },
  {
   "cell_type": "code",
   "execution_count": null,
   "metadata": {},
   "outputs": [],
   "source": [
    "import pandas as pd\n",
    "import seaborn as sns\n",
    "import matplotlib.pyplot as plt\n",
    "\n",
    "# Read the CSV file\n",
    "file_name = 'p004.csv'\n",
    "data = pd.read_csv(f'./data/csv_files/{file_name}')\n",
    "\n",
    "# Convert the 'date' column to datetime format\n",
    "data['date'] = pd.to_datetime(data['datetime'])\n",
    "\n",
    "# Extract day of the week from the 'date' column\n",
    "data['day_of_week'] = data['date'].dt.day_name()\n",
    "\n",
    "# Define the start and end dates of the week\n",
    "start_date = '2022-06-19'\n",
    "end_date = '2022-06-25'\n",
    "\n",
    "# Filter the data for the specified week\n",
    "week_data = data[(data['date'] >= start_date) & (data['date'] <= end_date)]\n",
    "\n",
    "# Pivot the data to have day_of_week as columns, hour as index, and amount as values\n",
    "pivot_table = pd.pivot_table(week_data, values='amount', index='hour', columns='day_of_week', aggfunc='median')\n",
    "\n",
    "# Calculate the correlation matrix\n",
    "correlation_matrix = pivot_table.corr()\n",
    "\n",
    "# Plotting the correlation heatmap\n",
    "plt.figure(figsize=(8, 6))\n",
    "sns.heatmap(correlation_matrix, annot=True, cmap='coolwarm', vmin=-1, vmax=1)\n",
    "plt.title('Correlation Heatmap for the Week (med)')\n",
    "plt.xlabel('Days of the Week')\n",
    "plt.ylabel('Days of the Week')\n",
    "plt.xticks(range(7), ['Monday', 'Tuesday', 'Wednesday', 'Thursday', 'Friday', 'Saturday', 'Sunday'])\n",
    "plt.yticks(range(7), ['Monday', 'Tuesday', 'Wednesday', 'Thursday', 'Friday', 'Saturday', 'Sunday'])\n",
    "plt.savefig(f'{file_name}_from_{start_date}_heatmap.svg', format='svg')\n",
    "plt.show()\n"
   ]
  },
  {
   "attachments": {},
   "cell_type": "markdown",
   "metadata": {},
   "source": [
    "2. 一週間分の曜日とデバイス"
   ]
  },
  {
   "cell_type": "code",
   "execution_count": null,
   "metadata": {},
   "outputs": [],
   "source": [
    "import pandas as pd\n",
    "import matplotlib.pyplot as plt\n",
    "\n",
    "# Read the CSV file\n",
    "file_name = 'p030'\n",
    "data = pd.read_csv(f'./data/csv_files/{file_name}.csv')\n",
    "\n",
    "# Convert the 'date' column to datetime format\n",
    "data['date'] = pd.to_datetime(data['datetime'])\n",
    "\n",
    "# Extract day of the week from the 'date' column\n",
    "data['day_of_week'] = data['date'].dt.day_name()\n",
    "\n",
    "# Define a color map for the days of the week\n",
    "color_map = {\n",
    "    'Monday': 'yellow',\n",
    "    'Tuesday': 'pink',\n",
    "    'Wednesday': 'green',\n",
    "    'Thursday': 'orange',\n",
    "    'Friday': 'blue',\n",
    "    'Saturday': 'purple',\n",
    "    'Sunday': 'red'\n",
    "}\n",
    "\n",
    "# Group data by week, day of the week, and hour, and calculate the sum of devices\n",
    "grouped_data = data.groupby([pd.Grouper(key='date', freq='W'), 'day_of_week', 'hour'])['amount'].sum()\n",
    "\n",
    "# Reset the index of the grouped data\n",
    "grouped_data = grouped_data.reset_index()\n",
    "\n",
    "# Get the unique weeks\n",
    "weeks = grouped_data['date'].dt.strftime('%Y-%m-%d').unique()\n",
    "\n",
    "# Plotting and saving the data for each week\n",
    "for week in weeks:\n",
    "    plt.figure()\n",
    "    for day in grouped_data['day_of_week'].unique():\n",
    "        day_data = grouped_data[(grouped_data['date'].dt.strftime('%Y-%m-%d') == week) & (grouped_data['day_of_week'] == day)]\n",
    "        plt.plot(day_data['hour'], day_data['amount'], label=day, color=color_map[day])\n",
    "\n",
    "    plt.xlabel('Time (Hour of the day)')\n",
    "    plt.ylabel('Amount of Devices')\n",
    "    plt.title(f'Amount of Devices by Time (Week starting from {week})')\n",
    "    plt.legend()\n",
    "    plt.savefig(f'{file_name}_week_{week}.svg', format='svg')\n",
    "    plt.close()\n"
   ]
  },
  {
   "attachments": {},
   "cell_type": "markdown",
   "metadata": {},
   "source": [
    "3. 曜日（複数週）とデバイス数の関係"
   ]
  },
  {
   "cell_type": "code",
   "execution_count": null,
   "metadata": {},
   "outputs": [],
   "source": [
    "import pandas as pd\n",
    "import matplotlib.pyplot as plt\n",
    "\n",
    "# Read the CSV file\n",
    "data = pd.read_csv('./data/csv_files/p030.csv')\n",
    "\n",
    "# Convert the 'date' column to datetime format\n",
    "data['datetime'] = pd.to_datetime(data['datetime'])\n",
    "day_week = ['Mon', 'Tue', 'Wed', 'Thu', 'Fri', 'Sat', 'Sun']\n",
    "\n",
    "for day in range(0, 7):\n",
    "    day_data = data[data['day_of_week']==day]\n",
    "    \n",
    "    # Group data by date and time, and calculate the sum of devices\n",
    "    grouped_data = day_data.groupby(['datetime', 'hour'])['amount'].sum()\n",
    "     \n",
    "    # Reshape the data to have each Sunday as a separate line\n",
    "    pivot_data = grouped_data.unstack(level=0)\n",
    "    # Plotting the data\n",
    "    pivot_data.plot(kind='line', legend=True)\n",
    "    plt.xlabel('Time')\n",
    "    plt.ylabel('Amount of Devices')\n",
    "    plt.title(f'Amount of Devices by Time at p030 ({day_week[day]})')\n",
    "    plt.savefig(f'p030_{day}.svg', format='svg')\n",
    "    plt.close()\n"
   ]
  }
 ],
 "metadata": {
  "language_info": {
   "name": "python"
  },
  "orig_nbformat": 4
 },
 "nbformat": 4,
 "nbformat_minor": 2
}
